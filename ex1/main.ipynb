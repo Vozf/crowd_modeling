{
 "cells": [
  {
   "cell_type": "code",
   "execution_count": null,
   "metadata": {
    "ExecuteTime": {
     "start_time": "2023-04-24T15:06:11.912866Z",
     "end_time": "2023-04-24T15:06:11.985260Z"
    }
   },
   "outputs": [],
   "source": [
    "%load_ext autoreload\n",
    "%autoreload 2"
   ]
  },
  {
   "cell_type": "code",
   "execution_count": null,
   "metadata": {
    "ExecuteTime": {
     "start_time": "2023-04-24T15:06:12.897807Z",
     "end_time": "2023-04-24T15:06:12.915553Z"
    }
   },
   "outputs": [],
   "source": [
    "from matplotlib import rc\n",
    "\n",
    "from ex1.visualizer import run_scenario\n",
    "\n",
    "rc('animation', html='jshtml')\n",
    "%matplotlib inline"
   ]
  },
  {
   "cell_type": "code",
   "execution_count": null,
   "metadata": {
    "ExecuteTime": {
     "start_time": "2023-04-25T18:45:08.960687Z",
     "end_time": "2023-04-25T18:45:10.542245Z"
    }
   },
   "outputs": [],
   "source": [
    "run_scenario('scenario_task_2.json', dijkstra=False).get_anim()"
   ]
  },
  {
   "cell_type": "code",
   "execution_count": null,
   "metadata": {
    "ExecuteTime": {
     "start_time": "2023-04-24T16:07:58.259069Z",
     "end_time": "2023-04-24T16:08:01.944315Z"
    },
    "scrolled": true
   },
   "outputs": [],
   "source": [
    "run_scenario('scenario_task_3.json', dijkstra=False).get_anim()"
   ]
  },
  {
   "cell_type": "code",
   "execution_count": null,
   "metadata": {
    "ExecuteTime": {
     "start_time": "2023-04-24T16:09:00.005412Z",
     "end_time": "2023-04-24T16:09:05.717738Z"
    }
   },
   "outputs": [],
   "source": [
    "run_scenario('scenario_task_4_1.json', dijkstra=False).get_anim()"
   ]
  },
  {
   "cell_type": "code",
   "execution_count": null,
   "metadata": {
    "ExecuteTime": {
     "start_time": "2023-04-24T16:10:57.670612Z",
     "end_time": "2023-04-24T16:11:04.046002Z"
    }
   },
   "outputs": [],
   "source": [
    "run_scenario('scenario_task_4_1.json', dijkstra=True).get_anim()"
   ]
  },
  {
   "cell_type": "code",
   "execution_count": null,
   "outputs": [],
   "source": [
    "run_scenario('scenario_task_4_2.json', dijkstra=False, time_cap=30).get_anim()\n"
   ],
   "metadata": {
    "collapsed": false,
    "ExecuteTime": {
     "start_time": "2023-04-24T16:11:52.004110Z",
     "end_time": "2023-04-24T16:11:55.098060Z"
    }
   }
  },
  {
   "cell_type": "code",
   "execution_count": null,
   "outputs": [],
   "source": [
    "run_scenario('scenario_task_4_2.json', dijkstra=True).get_anim()\n"
   ],
   "metadata": {
    "collapsed": false,
    "ExecuteTime": {
     "start_time": "2023-04-24T16:12:36.524573Z",
     "end_time": "2023-04-24T16:12:38.951057Z"
    }
   }
  },
  {
   "cell_type": "markdown",
   "source": [
    "# Rimea\n"
   ],
   "metadata": {
    "collapsed": false
   }
  },
  {
   "cell_type": "code",
   "execution_count": null,
   "outputs": [],
   "source": [
    "run_scenario('scenario_task_5_1.json', dijkstra=True).get_anim()\n"
   ],
   "metadata": {
    "collapsed": false,
    "ExecuteTime": {
     "start_time": "2023-04-25T18:23:37.056382Z",
     "end_time": "2023-04-25T18:23:40.768412Z"
    }
   }
  },
  {
   "cell_type": "code",
   "execution_count": null,
   "outputs": [],
   "source": [
    "run_scenario('scenario_task_5_2.json', dijkstra=True).get_anim()"
   ],
   "metadata": {
    "collapsed": false
   }
  },
  {
   "cell_type": "code",
   "execution_count": null,
   "outputs": [],
   "source": [
    "run_scenario('scenario_task_5_3.json', dijkstra=True).get_anim()"
   ],
   "metadata": {
    "collapsed": false
   }
  },
  {
   "cell_type": "code",
   "execution_count": null,
   "outputs": [],
   "source": [
    "run_scenario('scenario_task_5_4.json', dijkstra=True).get_anim()"
   ],
   "metadata": {
    "collapsed": false
   }
  },
  {
   "cell_type": "code",
   "execution_count": null,
   "outputs": [],
   "source": [
    "run_scenario('scenario_task_5_4.json', dijkstra=True).get_anim()"
   ],
   "metadata": {
    "collapsed": false
   }
  },
  {
   "cell_type": "code",
   "execution_count": null,
   "outputs": [],
   "source": [
    "run_scenario('scenario_task_5_4.json', dijkstra=True).get_anim()\n"
   ],
   "metadata": {
    "collapsed": false
   }
  }
 ],
 "metadata": {
  "kernelspec": {
   "display_name": "Python 3 (ipykernel)",
   "language": "python",
   "name": "python3"
  },
  "language_info": {
   "codemirror_mode": {
    "name": "ipython",
    "version": 3
   },
   "file_extension": ".py",
   "mimetype": "text/x-python",
   "name": "python",
   "nbconvert_exporter": "python",
   "pygments_lexer": "ipython3",
   "version": "3.8.10"
  }
 },
 "nbformat": 4,
 "nbformat_minor": 1
}
