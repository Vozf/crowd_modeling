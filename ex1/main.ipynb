{
 "cells": [
  {
   "cell_type": "code",
   "execution_count": null,
   "metadata": {
    "ExecuteTime": {
     "start_time": "2023-04-21T13:38:58.073233Z",
     "end_time": "2023-04-21T13:38:58.136577Z"
    }
   },
   "outputs": [],
   "source": [
    "%load_ext autoreload\n",
    "%autoreload 2\n",
    "\n",
    "from functools import partial\n",
    "from copy import deepcopy"
   ]
  },
  {
   "cell_type": "code",
   "execution_count": null,
   "metadata": {
    "ExecuteTime": {
     "start_time": "2023-04-21T13:38:58.511286Z",
     "end_time": "2023-04-21T13:38:58.836674Z"
    }
   },
   "outputs": [],
   "source": [
    "import numpy as np\n",
    "import matplotlib\n",
    "import matplotlib.pyplot as plt\n",
    "from matplotlib import animation, rc\n",
    "from IPython.display import HTML\n",
    "from tqdm import autonotebook as tqdm\n",
    "\n",
    "from ex1.main import Simulation\n",
    "from ex1.main import read_scenario\n",
    "\n",
    "rc('animation', html='jshtml')\n",
    "%matplotlib inline"
   ]
  },
  {
   "cell_type": "code",
   "execution_count": null,
   "metadata": {
    "ExecuteTime": {
     "start_time": "2023-04-21T13:38:58.827171Z",
     "end_time": "2023-04-21T13:38:59.154864Z"
    }
   },
   "outputs": [],
   "source": [
    "scenario = read_scenario('scenario_task_3.json')\n",
    "states = Simulation(scenario).get_states()"
   ]
  },
  {
   "cell_type": "code",
   "execution_count": null,
   "metadata": {
    "ExecuteTime": {
     "start_time": "2023-04-21T13:39:02.313196Z",
     "end_time": "2023-04-21T13:39:03.332591Z"
    }
   },
   "outputs": [],
   "source": [
    "fig, ax = plt.subplots()\n",
    "ax.set_xticks(np.arange(0, scenario.field[1] + 1, 1))\n",
    "ax.set_yticks(np.arange(0, scenario.field[0] + 1, 1))\n",
    "plt.grid()\n",
    "\n",
    "ax.set_xlim((0, scenario.field[1]))\n",
    "ax.set_ylim((0, scenario.field[0]))\n",
    "\n",
    "# line, = ax.plot([], [], lw=2)\n",
    "colors = ['b', 'r', 'g']\n",
    "cmap = matplotlib.colors.ListedColormap(colors)\n",
    "sc_plot = ax.scatter([], [], c=[], cmap=cmap)"
   ]
  },
  {
   "cell_type": "code",
   "execution_count": null,
   "outputs": [],
   "source": [
    "offsets = []\n",
    "colors = []\n",
    "for timestamp, state in states:\n",
    "    points = np.asarray((list(state.pedestrians) + list(state.obstacles) + list(state.target)))\n",
    "    points[..., 0], points[..., 1] = points[..., 1], points[..., 0].copy()\n",
    "    offsets.append(points)\n",
    "    color = np.concatenate((\n",
    "        np.zeros(len(state.pedestrians)),\n",
    "        np.zeros(len(state.obstacles)) + 1,\n",
    "        np.zeros(len(state.target)) + 2,\n",
    "    ))\n",
    "    colors.append(color)\n",
    "\n",
    "\n",
    "def init():\n",
    "    sc_plot.set_offsets([[0, 0]])\n",
    "    return (sc_plot,)\n",
    "\n",
    "\n",
    "pbar = tqdm.tqdm(total=len(states))\n",
    "\n",
    "\n",
    "def animate(i, sc_plot):\n",
    "    pbar.update(1)\n",
    "    sc_plot.set_offsets(offsets[i])\n",
    "    sc_plot.set_array(colors[i])\n",
    "    return (sc_plot,)\n",
    "\n",
    "\n",
    "anim = animation.FuncAnimation(fig, partial(animate, sc_plot=sc_plot), init_func=init,\n",
    "                               frames=len(states), interval=500, blit=True)\n",
    "anim"
   ],
   "metadata": {
    "collapsed": false,
    "ExecuteTime": {
     "start_time": "2023-04-21T13:45:23.360332Z",
     "end_time": "2023-04-21T13:45:50.475327Z"
    }
   }
  },
  {
   "cell_type": "code",
   "execution_count": null,
   "metadata": {
    "scrolled": true,
    "ExecuteTime": {
     "start_time": "2023-04-19T23:16:33.301026Z",
     "end_time": "2023-04-19T23:16:33.302007Z"
    }
   },
   "outputs": [],
   "source": [
    "#HTML(anim.to_html5_video())"
   ]
  },
  {
   "cell_type": "code",
   "execution_count": null,
   "metadata": {
    "ExecuteTime": {
     "start_time": "2023-04-19T23:14:39.578059Z",
     "end_time": "2023-04-19T23:14:39.578732Z"
    }
   },
   "outputs": [],
   "source": []
  },
  {
   "cell_type": "code",
   "execution_count": null,
   "outputs": [],
   "source": [],
   "metadata": {
    "collapsed": false
   }
  }
 ],
 "metadata": {
  "kernelspec": {
   "display_name": "Python 3 (ipykernel)",
   "language": "python",
   "name": "python3"
  },
  "language_info": {
   "codemirror_mode": {
    "name": "ipython",
    "version": 3
   },
   "file_extension": ".py",
   "mimetype": "text/x-python",
   "name": "python",
   "nbconvert_exporter": "python",
   "pygments_lexer": "ipython3",
   "version": "3.8.10"
  }
 },
 "nbformat": 4,
 "nbformat_minor": 1
}
