{
 "cells": [
  {
   "cell_type": "code",
   "execution_count": null,
   "metadata": {
    "ExecuteTime": {
     "start_time": "2023-04-21T15:31:46.846157Z",
     "end_time": "2023-04-21T15:31:46.887139Z"
    }
   },
   "outputs": [],
   "source": [
    "%load_ext autoreload\n",
    "%autoreload 2"
   ]
  },
  {
   "cell_type": "code",
   "execution_count": null,
   "metadata": {
    "ExecuteTime": {
     "start_time": "2023-04-21T15:53:14.874728Z",
     "end_time": "2023-04-21T15:53:14.985719Z"
    }
   },
   "outputs": [],
   "source": [
    "from matplotlib import rc\n",
    "\n",
    "from ex1.main import Simulation\n",
    "from ex1.main import read_scenario\n",
    "from ex1.visualizer import Visualizer\n",
    "\n",
    "rc('animation', html='jshtml')\n",
    "%matplotlib inline"
   ]
  },
  {
   "cell_type": "code",
   "execution_count": null,
   "metadata": {
    "ExecuteTime": {
     "start_time": "2023-04-21T16:21:12.498715Z",
     "end_time": "2023-04-21T16:21:18.445884Z"
    }
   },
   "outputs": [],
   "source": [
    "scenario = read_scenario('scenario_task_4.json')\n",
    "states = Simulation(scenario, dijkstra=False).get_states()\n",
    "\n",
    "anim = Visualizer(states).draw()\n",
    "anim"
   ]
  },
  {
   "cell_type": "code",
   "execution_count": null,
   "metadata": {
    "scrolled": true,
    "ExecuteTime": {
     "start_time": "2023-04-21T16:21:34.721749Z",
     "end_time": "2023-04-21T16:21:36.437115Z"
    }
   },
   "outputs": [],
   "source": [
    "scenario = read_scenario('scenario_task_4.json')\n",
    "states = Simulation(scenario, dijkstra=True).get_states()\n",
    "\n",
    "anim = Visualizer(states).draw()\n",
    "anim"
   ]
  },
  {
   "cell_type": "code",
   "execution_count": null,
   "outputs": [],
   "source": [],
   "metadata": {
    "collapsed": false
   }
  }
 ],
 "metadata": {
  "kernelspec": {
   "display_name": "Python 3 (ipykernel)",
   "language": "python",
   "name": "python3"
  },
  "language_info": {
   "codemirror_mode": {
    "name": "ipython",
    "version": 3
   },
   "file_extension": ".py",
   "mimetype": "text/x-python",
   "name": "python",
   "nbconvert_exporter": "python",
   "pygments_lexer": "ipython3",
   "version": "3.8.10"
  }
 },
 "nbformat": 4,
 "nbformat_minor": 1
}
