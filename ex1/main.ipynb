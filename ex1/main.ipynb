{
 "cells": [
  {
   "cell_type": "code",
   "execution_count": null,
   "metadata": {
    "ExecuteTime": {
     "start_time": "2023-04-21T15:31:46.846157Z",
     "end_time": "2023-04-21T15:31:46.887139Z"
    }
   },
   "outputs": [],
   "source": [
    "%load_ext autoreload\n",
    "%autoreload 2"
   ]
  },
  {
   "cell_type": "code",
   "execution_count": null,
   "metadata": {
    "ExecuteTime": {
     "start_time": "2023-04-21T15:31:46.989607Z",
     "end_time": "2023-04-21T15:31:47.072631Z"
    }
   },
   "outputs": [],
   "source": [
    "from matplotlib import animation, rc\n",
    "\n",
    "from ex1.main import Simulation\n",
    "from ex1.main import read_scenario\n",
    "from ex1.visualizer import Visualizer\n",
    "\n",
    "rc('animation', html='jshtml')\n",
    "%matplotlib inline"
   ]
  },
  {
   "cell_type": "code",
   "execution_count": null,
   "metadata": {
    "ExecuteTime": {
     "start_time": "2023-04-21T15:33:32.384113Z",
     "end_time": "2023-04-21T15:33:34.048954Z"
    }
   },
   "outputs": [],
   "source": [
    "scenario = read_scenario('scenario_task_4.json')\n",
    "states = Simulation(scenario).get_states()\n",
    "\n",
    "anim = Visualizer(states).draw()\n",
    "anim"
   ]
  },
  {
   "cell_type": "code",
   "execution_count": null,
   "metadata": {
    "scrolled": true,
    "ExecuteTime": {
     "start_time": "2023-04-19T23:16:33.301026Z",
     "end_time": "2023-04-19T23:16:33.302007Z"
    }
   },
   "outputs": [],
   "source": [
    "#vis.get_video(anim)"
   ]
  },
  {
   "cell_type": "code",
   "execution_count": null,
   "outputs": [],
   "source": [],
   "metadata": {
    "collapsed": false
   }
  }
 ],
 "metadata": {
  "kernelspec": {
   "display_name": "Python 3 (ipykernel)",
   "language": "python",
   "name": "python3"
  },
  "language_info": {
   "codemirror_mode": {
    "name": "ipython",
    "version": 3
   },
   "file_extension": ".py",
   "mimetype": "text/x-python",
   "name": "python",
   "nbconvert_exporter": "python",
   "pygments_lexer": "ipython3",
   "version": "3.8.10"
  }
 },
 "nbformat": 4,
 "nbformat_minor": 1
}
