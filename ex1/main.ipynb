{
 "cells": [
  {
   "cell_type": "code",
   "execution_count": null,
   "metadata": {
    "ExecuteTime": {
     "start_time": "2023-04-23T15:54:46.454894Z",
     "end_time": "2023-04-23T15:54:46.456912Z"
    }
   },
   "outputs": [],
   "source": [
    "%load_ext autoreload\n",
    "%autoreload 2"
   ]
  },
  {
   "cell_type": "code",
   "execution_count": null,
   "metadata": {
    "ExecuteTime": {
     "start_time": "2023-04-23T15:54:46.455826Z",
     "end_time": "2023-04-23T15:54:46.932064Z"
    }
   },
   "outputs": [],
   "source": [
    "from matplotlib import rc\n",
    "\n",
    "from ex1.visualizer import run_scenario\n",
    "\n",
    "rc('animation', html='jshtml')\n",
    "%matplotlib inline"
   ]
  },
  {
   "cell_type": "code",
   "execution_count": null,
   "metadata": {
    "ExecuteTime": {
     "start_time": "2023-04-23T15:54:46.935156Z",
     "end_time": "2023-04-23T15:54:49.132129Z"
    }
   },
   "outputs": [],
   "source": [
    "run_scenario('scenario_task_2.json', dijkstra=False).get_anim()"
   ]
  },
  {
   "cell_type": "code",
   "execution_count": null,
   "metadata": {
    "ExecuteTime": {
     "start_time": "2023-04-23T15:54:49.135208Z",
     "end_time": "2023-04-23T15:54:55.525134Z"
    },
    "scrolled": true
   },
   "outputs": [],
   "source": [
    "run_scenario('scenario_task_3.json', dijkstra=False).get_anim()"
   ]
  },
  {
   "cell_type": "code",
   "execution_count": null,
   "metadata": {
    "ExecuteTime": {
     "start_time": "2023-04-23T15:54:55.531638Z",
     "end_time": "2023-04-23T15:55:04.258199Z"
    }
   },
   "outputs": [],
   "source": [
    "run_scenario('scenario_task_4_1.json', dijkstra=False).get_anim()"
   ]
  },
  {
   "cell_type": "code",
   "execution_count": null,
   "metadata": {
    "ExecuteTime": {
     "start_time": "2023-04-23T15:55:04.258606Z",
     "end_time": "2023-04-23T15:55:13.213298Z"
    }
   },
   "outputs": [],
   "source": [
    "run_scenario('scenario_task_4_1.json', dijkstra=True).get_anim()"
   ]
  },
  {
   "cell_type": "code",
   "execution_count": null,
   "outputs": [],
   "source": [
    "run_scenario('scenario_task_4_2.json', dijkstra=False, time_cap=30).get_anim()\n"
   ],
   "metadata": {
    "collapsed": false,
    "ExecuteTime": {
     "start_time": "2023-04-23T15:55:13.212569Z",
     "end_time": "2023-04-23T15:55:17.531804Z"
    }
   }
  },
  {
   "cell_type": "code",
   "execution_count": null,
   "outputs": [],
   "source": [
    "run_scenario('scenario_task_4_2.json', dijkstra=True).get_anim()\n"
   ],
   "metadata": {
    "collapsed": false,
    "ExecuteTime": {
     "start_time": "2023-04-23T15:55:17.535341Z",
     "end_time": "2023-04-23T15:55:21.468753Z"
    }
   }
  },
  {
   "cell_type": "code",
   "execution_count": null,
   "outputs": [],
   "source": [],
   "metadata": {
    "collapsed": false
   }
  }
 ],
 "metadata": {
  "kernelspec": {
   "display_name": "Python 3 (ipykernel)",
   "language": "python",
   "name": "python3"
  },
  "language_info": {
   "codemirror_mode": {
    "name": "ipython",
    "version": 3
   },
   "file_extension": ".py",
   "mimetype": "text/x-python",
   "name": "python",
   "nbconvert_exporter": "python",
   "pygments_lexer": "ipython3",
   "version": "3.8.10"
  }
 },
 "nbformat": 4,
 "nbformat_minor": 1
}
