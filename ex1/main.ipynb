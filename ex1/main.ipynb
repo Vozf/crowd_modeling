{
 "cells": [
  {
   "cell_type": "code",
   "execution_count": null,
   "metadata": {
    "ExecuteTime": {
     "start_time": "2023-04-24T15:06:11.912866Z",
     "end_time": "2023-04-24T15:06:11.985260Z"
    }
   },
   "outputs": [],
   "source": [
    "%load_ext autoreload\n",
    "%autoreload 2"
   ]
  },
  {
   "cell_type": "code",
   "execution_count": null,
   "metadata": {
    "ExecuteTime": {
     "start_time": "2023-04-24T15:06:12.897807Z",
     "end_time": "2023-04-24T15:06:12.915553Z"
    }
   },
   "outputs": [],
   "source": [
    "from matplotlib import rc\n",
    "\n",
    "from ex1.visualizer import run_scenario\n",
    "\n",
    "rc('animation', html='jshtml')\n",
    "%matplotlib inline"
   ]
  },
  {
   "cell_type": "code",
   "execution_count": null,
   "metadata": {
    "ExecuteTime": {
     "start_time": "2023-04-25T19:36:08.897310Z",
     "end_time": "2023-04-25T19:36:11.048287Z"
    }
   },
   "outputs": [],
   "source": [
    "run_scenario('scenarios/scenario_task_2.json', dijkstra=False).get_anim()"
   ]
  },
  {
   "cell_type": "code",
   "execution_count": null,
   "metadata": {
    "ExecuteTime": {
     "start_time": "2023-04-25T18:46:05.365371Z",
     "end_time": "2023-04-25T18:46:07.808152Z"
    },
    "scrolled": true
   },
   "outputs": [],
   "source": [
    "run_scenario('scenarios/scenario_task_3.json', dijkstra=False).get_anim()"
   ]
  },
  {
   "cell_type": "code",
   "execution_count": null,
   "metadata": {
    "ExecuteTime": {
     "start_time": "2023-04-24T16:09:00.005412Z",
     "end_time": "2023-04-24T16:09:05.717738Z"
    }
   },
   "outputs": [],
   "source": [
    "run_scenario('scenarios/scenario_task_4_1.json', dijkstra=False).get_anim()"
   ]
  },
  {
   "cell_type": "code",
   "execution_count": null,
   "metadata": {
    "ExecuteTime": {
     "start_time": "2023-04-24T16:10:57.670612Z",
     "end_time": "2023-04-24T16:11:04.046002Z"
    }
   },
   "outputs": [],
   "source": [
    "run_scenario('scenarios/scenario_task_4_1.json', dijkstra=True).get_anim()"
   ]
  },
  {
   "cell_type": "code",
   "execution_count": null,
   "outputs": [],
   "source": [
    "run_scenario('scenarios/scenario_task_4_2.json', dijkstra=False, time_cap=30).get_anim()\n"
   ],
   "metadata": {
    "collapsed": false,
    "ExecuteTime": {
     "start_time": "2023-04-24T16:11:52.004110Z",
     "end_time": "2023-04-24T16:11:55.098060Z"
    }
   }
  },
  {
   "cell_type": "code",
   "execution_count": null,
   "outputs": [],
   "source": [
    "run_scenario('scenarios/scenario_task_4_2.json', dijkstra=True).get_anim()\n"
   ],
   "metadata": {
    "collapsed": false,
    "ExecuteTime": {
     "start_time": "2023-04-24T16:12:36.524573Z",
     "end_time": "2023-04-24T16:12:38.951057Z"
    }
   }
  },
  {
   "cell_type": "markdown",
   "source": [
    "# Rimea\n"
   ],
   "metadata": {
    "collapsed": false
   }
  },
  {
   "cell_type": "code",
   "execution_count": null,
   "outputs": [],
   "source": [
    "run_scenario('scenarios/scenario_task_5_1.json', dijkstra=True).get_anim()\n"
   ],
   "metadata": {
    "collapsed": false,
    "ExecuteTime": {
     "start_time": "2023-04-25T18:46:43.415721Z",
     "end_time": "2023-04-25T18:46:46.457094Z"
    }
   }
  },
  {
   "cell_type": "code",
   "execution_count": null,
   "outputs": [],
   "source": [
    "run_scenario('scenarios/scenario_task_5_2_s.json', dijkstra=True).get_anim()"
   ],
   "metadata": {
    "collapsed": false,
    "ExecuteTime": {
     "start_time": "2023-04-25T19:11:04.274730Z",
     "end_time": "2023-04-25T19:11:11.382107Z"
    }
   }
  },
  {
   "cell_type": "code",
   "execution_count": null,
   "outputs": [],
   "source": [
    "run_scenario('scenarios/scenario_task_5_2_m.json', dijkstra=True).get_anim()"
   ],
   "metadata": {
    "collapsed": false,
    "ExecuteTime": {
     "start_time": "2023-04-25T19:11:35.140239Z",
     "end_time": "2023-04-25T19:11:44.086172Z"
    }
   }
  },
  {
   "cell_type": "code",
   "execution_count": null,
   "outputs": [],
   "source": [
    "run_scenario('scenarios/scenario_task_5_2_l.json', dijkstra=True).get_anim()"
   ],
   "metadata": {
    "collapsed": false,
    "ExecuteTime": {
     "start_time": "2023-04-25T19:11:44.085790Z",
     "end_time": "2023-04-25T19:11:53.849077Z"
    }
   }
  },
  {
   "cell_type": "code",
   "execution_count": null,
   "outputs": [],
   "source": [
    "run_scenario('scenarios/scenario_task_5_2_xl.json', dijkstra=True).get_anim()"
   ],
   "metadata": {
    "collapsed": false,
    "ExecuteTime": {
     "start_time": "2023-04-25T19:11:53.849385Z",
     "end_time": "2023-04-25T19:12:05.848426Z"
    }
   }
  },
  {
   "cell_type": "code",
   "execution_count": null,
   "outputs": [],
   "source": [
    "run_scenario('scenarios/scenario_task_5_3.json', dijkstra=True).get_anim()"
   ],
   "metadata": {
    "collapsed": false,
    "ExecuteTime": {
     "start_time": "2023-04-25T19:25:52.289402Z",
     "end_time": "2023-04-25T19:25:54.848059Z"
    }
   }
  },
  {
   "cell_type": "code",
   "execution_count": null,
   "outputs": [],
   "source": [
    "run_scenario('scenarios/scenario_task_5_4.json', dijkstra=True, model_demographic_speed=True).get_anim()\n"
   ],
   "metadata": {
    "collapsed": false,
    "ExecuteTime": {
     "start_time": "2023-04-25T19:33:38.881455Z",
     "end_time": "2023-04-25T19:33:49.118878Z"
    }
   }
  },
  {
   "cell_type": "code",
   "execution_count": null,
   "outputs": [],
   "source": [],
   "metadata": {
    "collapsed": false
   }
  }
 ],
 "metadata": {
  "kernelspec": {
   "display_name": "Python 3 (ipykernel)",
   "language": "python",
   "name": "python3"
  },
  "language_info": {
   "codemirror_mode": {
    "name": "ipython",
    "version": 3
   },
   "file_extension": ".py",
   "mimetype": "text/x-python",
   "name": "python",
   "nbconvert_exporter": "python",
   "pygments_lexer": "ipython3",
   "version": "3.8.10"
  }
 },
 "nbformat": 4,
 "nbformat_minor": 1
}
