{
 "cells": [
  {
   "cell_type": "code",
   "execution_count": null,
   "metadata": {
    "ExecuteTime": {
     "start_time": "2023-04-23T14:25:42.945263Z",
     "end_time": "2023-04-23T14:25:42.945765Z"
    }
   },
   "outputs": [],
   "source": [
    "%load_ext autoreload\n",
    "%autoreload 2"
   ]
  },
  {
   "cell_type": "code",
   "execution_count": null,
   "metadata": {
    "ExecuteTime": {
     "start_time": "2023-04-23T14:25:42.945468Z",
     "end_time": "2023-04-23T14:25:43.463368Z"
    }
   },
   "outputs": [],
   "source": [
    "from matplotlib import rc\n",
    "\n",
    "from ex1.main import Simulation\n",
    "from ex1.main import read_scenario\n",
    "from ex1.visualizer import Visualizer\n",
    "\n",
    "rc('animation', html='jshtml')\n",
    "%matplotlib inline"
   ]
  },
  {
   "cell_type": "code",
   "execution_count": null,
   "metadata": {
    "ExecuteTime": {
     "start_time": "2023-04-23T14:29:13.960296Z",
     "end_time": "2023-04-23T14:29:20.426326Z"
    }
   },
   "outputs": [],
   "source": [
    "scenario = read_scenario('scenario_task_4.json')\n",
    "states = Simulation(scenario, dijkstra=False, time_cap=100).get_states()\n",
    "\n",
    "vis = Visualizer(states)\n",
    "vis.get_anim()"
   ]
  },
  {
   "cell_type": "code",
   "execution_count": null,
   "metadata": {
    "scrolled": true,
    "ExecuteTime": {
     "start_time": "2023-04-23T14:29:20.426072Z",
     "end_time": "2023-04-23T14:29:22.215735Z"
    }
   },
   "outputs": [],
   "source": [
    "scenario = read_scenario('scenario_task_4.json')\n",
    "states = Simulation(scenario, dijkstra=True).get_states()\n",
    "\n",
    "vis = Visualizer(states)\n",
    "vis.get_anim()"
   ]
  },
  {
   "cell_type": "code",
   "execution_count": null,
   "outputs": [],
   "source": [],
   "metadata": {
    "collapsed": false
   }
  }
 ],
 "metadata": {
  "kernelspec": {
   "display_name": "Python 3 (ipykernel)",
   "language": "python",
   "name": "python3"
  },
  "language_info": {
   "codemirror_mode": {
    "name": "ipython",
    "version": 3
   },
   "file_extension": ".py",
   "mimetype": "text/x-python",
   "name": "python",
   "nbconvert_exporter": "python",
   "pygments_lexer": "ipython3",
   "version": "3.8.10"
  }
 },
 "nbformat": 4,
 "nbformat_minor": 1
}
