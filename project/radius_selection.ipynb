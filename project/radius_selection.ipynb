{
 "cells": [
  {
   "cell_type": "code",
   "execution_count": 17,
   "metadata": {
    "collapsed": true,
    "ExecuteTime": {
     "start_time": "2023-07-16T14:00:19.482828Z",
     "end_time": "2023-07-16T14:00:19.487035Z"
    }
   },
   "outputs": [],
   "source": [
    "import numpy as np\n",
    "from megaman.geometry import Geometry\n",
    "from scipy.sparse.csgraph import connected_components\n",
    "from sklearn import datasets\n",
    "import pickle"
   ]
  },
  {
   "cell_type": "code",
   "execution_count": 6,
   "outputs": [],
   "source": [
    "def check_radiuses(X, radiuses=(.5, 1., 5., 10., 20.)):\n",
    "    geom = Geometry()\n",
    "    geom.set_data_matrix(X)\n",
    "\n",
    "    for rad1 in radiuses:\n",
    "        # compute an adjacency matrix with a radius\n",
    "        geom.adjacency_kwds = {'radius':rad1}\n",
    "        adjacency_matrix = geom.compute_adjacency_matrix()\n",
    "        # compute the corresponding affinity matrix\n",
    "        geom.affinity_kwds = {'radius':rad1}\n",
    "        affinity_matrix = geom.compute_affinity_matrix({'radius':rad1})\n",
    "        (number_connected_components, labels) = connected_components(affinity_matrix)\n",
    "        print(rad1, number_connected_components)\n"
   ],
   "metadata": {
    "collapsed": false,
    "ExecuteTime": {
     "start_time": "2023-07-14T16:49:55.368406Z",
     "end_time": "2023-07-14T16:49:55.384426Z"
    }
   }
  },
  {
   "cell_type": "code",
   "execution_count": 16,
   "outputs": [
    {
     "name": "stdout",
     "output_type": "stream",
     "text": [
      "0.5 9996\n",
      "1.0 9931\n",
      "5.0 22\n",
      "10.0 3\n",
      "20.0 1\n"
     ]
    }
   ],
   "source": [
    "X = np.load('./news_subset.npy')\n",
    "check_radiuses(X, radiuses=(.5, 1., 5., 10., 20.))"
   ],
   "metadata": {
    "collapsed": false,
    "ExecuteTime": {
     "start_time": "2023-07-14T16:52:16.960102Z",
     "end_time": "2023-07-14T17:03:16.827380Z"
    }
   }
  },
  {
   "cell_type": "code",
   "execution_count": 15,
   "outputs": [
    {
     "name": "stdout",
     "output_type": "stream",
     "text": [
      "0.01 9189\n",
      "0.02 7062\n",
      "0.05 476\n",
      "0.075 5\n",
      "0.08 3\n",
      "0.09 1\n",
      "0.1 1\n"
     ]
    }
   ],
   "source": [
    "X, color = datasets.make_s_curve(10000, random_state=0)\n",
    "check_radiuses(X, radiuses=(.01, .02, .05, .075, .08, .09, 0.1))"
   ],
   "metadata": {
    "collapsed": false,
    "ExecuteTime": {
     "start_time": "2023-07-14T16:51:34.300096Z",
     "end_time": "2023-07-14T16:51:34.759377Z"
    }
   }
  },
  {
   "cell_type": "code",
   "execution_count": 18,
   "outputs": [
    {
     "name": "stdout",
     "output_type": "stream",
     "text": [
      "0.5 34\n",
      "1.0 4\n",
      "5.0 1\n",
      "10.0 1\n",
      "20.0 1\n"
     ]
    }
   ],
   "source": [
    "with open('daily_mail.pkl', 'rb') as f:\n",
    "    X = pickle.load(f)\n",
    "    check_radiuses(X, radiuses=(.5, 1., 5., 10., 20.))\n"
   ],
   "metadata": {
    "collapsed": false,
    "ExecuteTime": {
     "start_time": "2023-07-16T14:00:22.018051Z",
     "end_time": "2023-07-16T14:00:29.248485Z"
    }
   }
  }
 ],
 "metadata": {
  "kernelspec": {
   "display_name": "Python 3",
   "language": "python",
   "name": "python3"
  },
  "language_info": {
   "codemirror_mode": {
    "name": "ipython",
    "version": 2
   },
   "file_extension": ".py",
   "mimetype": "text/x-python",
   "name": "python",
   "nbconvert_exporter": "python",
   "pygments_lexer": "ipython2",
   "version": "2.7.6"
  }
 },
 "nbformat": 4,
 "nbformat_minor": 0
}
